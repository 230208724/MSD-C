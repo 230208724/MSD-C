{
 "cells": [
  {
   "cell_type": "markdown",
   "metadata": {},
   "source": [
    "# test"
   ]
  },
  {
   "cell_type": "code",
   "execution_count": 5,
   "metadata": {
    "scrolled": true
   },
   "outputs": [
    {
     "name": "stdout",
     "output_type": "stream",
     "text": [
      "144 [[  4 212 179]]\n",
      "144 [[  4 212 179]\n",
      " [135 104 232]\n",
      " [137 101 210]\n",
      " [160 102 188]\n",
      " [160 115 185]\n",
      " [160 116 186]\n",
      " [160 123 189]\n",
      " [161 112 183]\n",
      " [161 125 181]\n",
      " [162 103 185]\n",
      " [162 118 189]\n",
      " [162 119 189]\n",
      " [162 123 188]\n",
      " [162 124 187]\n",
      " [162 128 180]\n",
      " [162 128 181]\n",
      " [163 108 185]\n",
      " [163 109 186]\n",
      " [163 111 180]\n",
      " [163 121 190]\n",
      " [163 122 188]\n",
      " [163 123 187]\n",
      " [163 123 189]\n",
      " [163 128 180]\n",
      " [163 129 179]\n",
      " [163 130 180]\n",
      " [164 104 180]\n",
      " [164 104 183]\n",
      " [164 108 188]\n",
      " [164 110 178]\n",
      " [164 117 189]\n",
      " [164 119 188]\n",
      " [164 127 177]\n",
      " [165 104 181]\n",
      " [165 105 179]\n",
      " [165 109 187]\n",
      " [165 113 189]\n",
      " [165 121 187]\n",
      " [165 128 176]\n",
      " [166 105 177]\n",
      " [166 106 185]\n",
      " [167  58 222]\n",
      " [174  42 174]\n",
      " [178  71 201]\n",
      " [179 126 156]\n",
      " [181 170 156]\n",
      " [182 170 155]\n",
      " [184 127 150]\n",
      " [188 175 145]\n",
      " [194  69 157]\n",
      " [194 185 143]\n",
      " [195  69 157]\n",
      " [195 169 177]\n",
      " [196  69 157]\n",
      " [196  74 157]\n",
      " [196 125 140]\n",
      " [197  75 156]\n",
      " [198  70 158]\n",
      " [202 134  78]\n",
      " [205 226  87]\n",
      " [212 141 108]\n",
      " [221  54 161]\n",
      " [226 136  89]\n",
      " [230 132  89]]\n",
      "1328 [[161 110 185]]\n"
     ]
    }
   ],
   "source": [
    "def max_test(imgfile,value=0):\n",
    "    import SimpleITK as sitk\n",
    "    eq = sitk.ReadImage(imgfile)\n",
    "    eq_array = sitk.GetArrayFromImage(eq)\n",
    "    import numpy as np\n",
    "    if value==0:\n",
    "        eq_max = eq_array.max()\n",
    "    else:\n",
    "        eq_max = value\n",
    "    print(eq_max, np.argwhere(eq_array==eq_max))\n",
    "max_test('./test/112200_046080_048450.tif_eq80.tif_i_1_mask.tif',144)\n",
    "max_test('./test/112200_046080_048450.tif_eq80.tif',144)\n",
    "max_test('./test/112200_046080_048450.tif')"
   ]
  },
  {
   "cell_type": "markdown",
   "metadata": {},
   "source": [
    "# debug on gs1891-size128"
   ]
  },
  {
   "cell_type": "code",
   "execution_count": 6,
   "metadata": {},
   "outputs": [
    {
     "name": "stdout",
     "output_type": "stream",
     "text": [
      "/media/lyx/OldMan/MSD-C/msd -i /PBshare/SEU-ALLEN/Users/XiaoqinGu/datatest/18470/2/new.tif\n"
     ]
    }
   ],
   "source": [
    "import os,glob\n",
    "image_file_dir = '/PBshare/SEU-ALLEN/Users/XiaoqinGu/datatest'\n",
    "image_file_list = glob.glob(image_file_dir+'/*/*/*.tif')\n",
    "for image_file in image_file_list:\n",
    "    msd_str = f'/media/lyx/OldMan/MSD-C/msd -i {image_file}'\n",
    "    print(msd_str)\n",
    "    #os.system(msd_str)\n",
    "    break"
   ]
  },
  {
   "cell_type": "markdown",
   "metadata": {},
   "source": [
    "input imgfile is /PBshare/SEU-ALLEN/Users/XiaoqinGu/datatest/18470/2/new.tif\n",
    "raw tif channel/frame/height/width/datatype/stripsize: -116981744/128/128/128/21920/8192\n",
    "*** Error in `/media/lyx/OldMan/MSD-C/msd': free(): invalid next size (normal): 0x0000000001efd9e0 ***\n",
    "======= Backtrace: =========\n"
   ]
  },
  {
   "cell_type": "markdown",
   "metadata": {},
   "source": [
    "input imgfile is test/112200_046080_048450.tif\n",
    "raw tif channel/frame/height/width/datatype/stripsize: 16/255/255/256/6649/130560\n",
    "raw tif max voxel value: 1328 and location: 161 110 185\n",
    "raw tif min voxel value: 16 and location: 31 169 224\n"
   ]
  },
  {
   "cell_type": "markdown",
   "metadata": {},
   "source": [
    "# test on gs1891-raw256"
   ]
  },
  {
   "cell_type": "code",
   "execution_count": null,
   "metadata": {},
   "outputs": [],
   "source": []
  }
 ],
 "metadata": {
  "kernelspec": {
   "display_name": "Python 3",
   "language": "python",
   "name": "python3"
  },
  "language_info": {
   "codemirror_mode": {
    "name": "ipython",
    "version": 3
   },
   "file_extension": ".py",
   "mimetype": "text/x-python",
   "name": "python",
   "nbconvert_exporter": "python",
   "pygments_lexer": "ipython3",
   "version": "3.8.3"
  }
 },
 "nbformat": 4,
 "nbformat_minor": 4
}
